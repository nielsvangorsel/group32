{
 "cells": [
  {
   "cell_type": "code",
   "execution_count": 13,
   "metadata": {
    "collapsed": true
   },
   "outputs": [],
   "source": [
    "from rdflib import Graph, RDF, Namespace, Literal, URIRef\n",
    "from SPARQLWrapper import SPARQLWrapper, JSON\n",
    "import csv\n",
    "from rdflib.namespace import RDF, FOAF\n",
    "import unicodedata\n",
    "import itertools\n",
    "import time"
   ]
  },
  {
   "cell_type": "code",
   "execution_count": 14,
   "metadata": {
    "collapsed": true
   },
   "outputs": [],
   "source": [
    "def serialize():\n",
    "    print g.serialize(format='turtle')\n",
    "\n",
    "def save(filename):\n",
    "    with open(filename, 'w') as f:\n",
    "        g.serialize(f, format='turtle')\n",
    "        \n",
    "def load(filename):\n",
    "    with open(filename, 'r') as f:\n",
    "        g.load(f, format='turtle')   "
   ]
  },
  {
   "cell_type": "markdown",
   "metadata": {},
   "source": [
    "#### Collecting the ID and name of the first 50 movies of the linkedmdb database"
   ]
  },
  {
   "cell_type": "code",
   "execution_count": 15,
   "metadata": {
    "collapsed": false,
    "scrolled": true
   },
   "outputs": [],
   "source": [
    "def DownloadMovies(x):\n",
    "    \"\"\"This function downloads an x number of random selected movies from the linkedmdb\n",
    "    database and stores the movie ID and corresponding name in a dictionary\"\"\"\n",
    "    \n",
    "    sparql = SPARQLWrapper(\"http://data.linkedmdb.org/sparql\")\n",
    "    sparql.setQuery(\"\"\"\n",
    "        PREFIX mdb: <http://data.linkedmdb.org/resource/movie/film>\n",
    "        PREFIX rdfs: <http://www.w3.org/2000/01/rdf-schema#>\n",
    "        PREFIX dc: <http://purl.org/dc/terms/>\n",
    "\n",
    "        SELECT ?label ?resource WHERE {{\n",
    "           ?resource mdb:id ?uri .\n",
    "           ?resource dc:title ?label . \n",
    "        }} LIMIT {val}\n",
    "        \"\"\".format(val=x))\n",
    "    \n",
    "    sparql.setReturnFormat(JSON)\n",
    "    results = sparql.query().convert()\n",
    "    #Creating a dictionary to store the results in\n",
    "    MoviesNamesID = {}\n",
    "    #Making sure to add the right data in the dictionary.\n",
    "    for x in results[\"results\"][\"bindings\"]:\n",
    "        MoviesNamesID[x['resource']['value']] = x['label']['value']\n",
    "    #Return the dictionary with the IDs as keys and the name as value\n",
    "    return MoviesNamesID"
   ]
  },
  {
   "cell_type": "code",
   "execution_count": 16,
   "metadata": {
    "collapsed": false,
    "scrolled": true
   },
   "outputs": [],
   "source": [
    "def CleanedDict(Dict):\n",
    "    FixedDict = {}\n",
    "    \"\"\"This function makes clear that the names of the actors, writers or directors do not \n",
    "    contain any spaces and are URI valid.\"\"\"\n",
    "    for ID, Name in Dict.iteritems():\n",
    "        value = unicodedata.normalize('NFKD', Name).encode('ascii','ignore').replace(' ', '_')\n",
    "        #Deleting a lot of signs in the people their name so it can be used as a URI link.       \n",
    "        value = value.replace('\"', '')\n",
    "        value = value.replace('.', '')\n",
    "        value = value.replace('\\'','')\n",
    "        value = value.replace(',','')\n",
    "        key = unicodedata.normalize('NFKD', ID).encode('ascii','ignore').replace(' ', '_')[35::]\n",
    "        FixedDict[key] = value\n",
    "    return FixedDict"
   ]
  },
  {
   "cell_type": "markdown",
   "metadata": {},
   "source": [
    "#### Appending the data the the graph and printing the serialized output."
   ]
  },
  {
   "cell_type": "code",
   "execution_count": 17,
   "metadata": {
    "collapsed": false
   },
   "outputs": [],
   "source": [
    "##Creating the graph where we will store the movie in\n",
    "g =Graph()\n",
    "IMDB = Namespace('http://data.linkedmdb.org/resource/')\n",
    "g.bind('imdb',IMDB)\n",
    "FOAF=Namespace('http://xmlns.com/foaf/0.1/')\n",
    "g.bind('foaf',FOAF)"
   ]
  },
  {
   "cell_type": "code",
   "execution_count": 18,
   "metadata": {
    "collapsed": false
   },
   "outputs": [],
   "source": [
    "#Using the double functions to take the first 50 movies in the database, with their cleaned values.\n",
    "\n",
    "def addingMoviesTurtle(functions):\n",
    "    for ID, Name in functions.iteritems():\n",
    "        w= IMDB[ID]\n",
    "        c= IMDB[Name]\n",
    "        g.add((w, RDF.type, IMDB['MovieID']))\n",
    "        g.add((w, FOAF.name, c))"
   ]
  },
  {
   "cell_type": "markdown",
   "metadata": {},
   "source": [
    "#### We now have the ID and Name of the first 50 movies. We are now going to gather the information about the actors, directors and writers of this movie"
   ]
  },
  {
   "cell_type": "code",
   "execution_count": 19,
   "metadata": {
    "collapsed": false
   },
   "outputs": [],
   "source": [
    "def CombinedDicts(Dict1, Dict2, Dict3):\n",
    "    \"\"\"This function gets 3 dicts as input and combines them so it outputs one dictionary\"\"\"\n",
    "    CombinedDict = {}\n",
    "    for key, value in Dict1.iteritems():\n",
    "        CombinedDict[key] = value\n",
    "    for key, value in Dict2.iteritems():\n",
    "        CombinedDict[key] = value\n",
    "    for key, value in Dict3.iteritems():\n",
    "        CombinedDict[key] = value\n",
    "    return CombinedDict"
   ]
  },
  {
   "cell_type": "code",
   "execution_count": 20,
   "metadata": {
    "collapsed": true
   },
   "outputs": [],
   "source": [
    "#Hier maken we de graph aan waar we uiteindelijk alle regisseurs, acteurs en schrijvers van de 50films\n",
    "#in gaan storen!\n",
    "gPeople = Graph()\n",
    " \n",
    "IMDB = Namespace('http://data.linkedmdb.org/resource/')\n",
    "MOVIE = Namespace('http://data.linkedmdb.org/resource/movie/')\n",
    "FILM = Namespace('http://data.linkedmdb.org/resource/film/')\n",
    "EX = Namespace('http://example.com/kad2017/')\n",
    "\n",
    "gPeople.bind('IMDB', IMDB)\n",
    "gPeople.bind('film',FILM)\n",
    "gPeople.bind('movie',MOVIE)\n",
    "gPeople.bind('EX', EX)\n",
    "\n",
    "FOAF=Namespace('http://xmlns.com/foaf/0.1/')\n",
    "gPeople.bind('foaf',FOAF)"
   ]
  },
  {
   "cell_type": "code",
   "execution_count": 21,
   "metadata": {
    "collapsed": false
   },
   "outputs": [],
   "source": [
    "##Nu gaan we een loop maken die door alle films heen gaat:\n",
    "def AddingTriples(film):\n",
    "    '''This function takes a film ID from linkedmdb as input. It than uses a QUERY to find the writers\n",
    "    actors and directors of this movie. After this the script creates the triples between the IDs and Names\n",
    "    of these people. It also creates a triple between all the people within a movie that they know eachother.'''\n",
    "    \n",
    "    sparql = SPARQLWrapper(\"http://data.linkedmdb.org/sparql\")\n",
    "    sparql.setQuery(\"\"\"\n",
    "    PREFIX mdb: <http://data.linkedmdb.org/resource/movie/>\n",
    "    PREFIX mdb2: <http://data.linkedmdb.org/resource/film/>\n",
    "\n",
    "    PREFIX rdfs: <http://www.w3.org/2000/01/rdf-schema#>\n",
    "    PREFIX dc: <http://purl.org/dc/terms/>\n",
    "    PREFIX foaf: <http://xmlns.com/foaf/0.1/>\n",
    "\n",
    "    SELECT DISTINCT ?actor ?director ?actorName ?directorName ?writer ?writerName WHERE {{\n",
    "    mdb2:{val} mdb:director ?director .\n",
    "    ?director mdb:director_name ?directorName .\n",
    "  \n",
    "    mdb2:{val} mdb:actor ?actor .\n",
    "    ?actor mdb:actor_name ?actorName .\n",
    "  \n",
    "    mdb2:{val} mdb:writer ?writer .\n",
    "    ?writer mdb:writer_name ?writerName .\n",
    "    }}\n",
    "    \"\"\".format(val=film))\n",
    "    sparql.setReturnFormat(JSON)\n",
    "    results = sparql.query().convert()\n",
    "    temp=[]\n",
    "    #We store the data obtained from the SPARQL query within 3 dict\n",
    "    actor_dict = {}\n",
    "    writer_dict = {}\n",
    "    director_dict = {}\n",
    "    #Here we append the SPARQL query data to the dicts\n",
    "    for x in results[\"results\"][\"bindings\"]:\n",
    "            actor_dict[x['actor']['value']] = x['actorName']['value']\n",
    "            writer_dict[x['writer']['value']] = x['writerName']['value']\n",
    "            director_dict[x['director']['value']] = x['directorName']['value']      \n",
    "    #Using the clean function to make sure the data within the dicts is URI compatible\n",
    "    cleanedActor_dict = CleanedDict(actor_dict)\n",
    "    cleanedWriter_dict = CleanedDict(writer_dict)\n",
    "    cleanedDirector_dict = CleanedDict(director_dict)\n",
    "\n",
    "    #Adding the triples from the cleaned dicts to the graph we created earlier above this code\n",
    "    for ID, Name in cleanedActor_dict.iteritems():\n",
    "        w= IMDB[ID]\n",
    "        c= IMDB[Name]\n",
    "        gPeople.add((w, RDF.type, IMDB['Person']))\n",
    "        gPeople.add((w, FOAF.name, c))\n",
    "        gPeople.add((w, MOVIE['actor'], FILM[film]))\n",
    "        #Using DBpedia to get the agegroup of the actor, try except because some\n",
    "        #people do not have a page on dbpedia with a corresponding birthdate\n",
    "        try:\n",
    "            age_group = classifyAgegroup(gettingAge(Name))\n",
    "            gPeople.add((w, EX['hasAge'], EX[age_group]))\n",
    "        except TypeError:\n",
    "            continue\n",
    "    #Adding the writers to the graph\n",
    "    for ID, Name in cleanedWriter_dict.iteritems():\n",
    "        w= IMDB[ID]\n",
    "        c= IMDB[Name]\n",
    "        gPeople.add((w, RDF.type, IMDB['Person']))\n",
    "        gPeople.add((w, FOAF.name, c))\n",
    "        gPeople.add((w, MOVIE['writer'], FILM[film]))\n",
    "        #Using DBpedia to get the obtain agegroup of the writer\n",
    "        try:\n",
    "            age_group = classifyAgegroup(gettingAge(Name))\n",
    "            gPeople.add((w, EX['hasAge'], EX[age_group]))\n",
    "        except TypeError:\n",
    "            continue\n",
    "    #Adding the directors to the graph\n",
    "    for ID, Name in cleanedDirector_dict.iteritems():\n",
    "        w= IMDB[ID]\n",
    "        c= IMDB[Name]\n",
    "        gPeople.add((w, RDF.type, IMDB['Person']))\n",
    "        gPeople.add((w, FOAF.name, c))\n",
    "        gPeople.add((w, MOVIE['director'], FILM[film]))\n",
    "        #Using DBpedia to get the obtain agegroup of the director\n",
    "        try:\n",
    "            age_group = classifyAgegroup(gettingAge(Name))\n",
    "            gPeople.add((w, EX['hasAge'], EX[age_group]))\n",
    "        except TypeError:\n",
    "            continue\n",
    "    #Making one final list of all people for the worked with relation they should have with each other.\n",
    "    AllPeople = CombinedDicts(actor_dict, writer_dict, director_dict)\n",
    "    #For the knows relation we first have to create all possible pairs between the people within a movie\n",
    "    for pair in list(itertools.combinations(AllPeople.keys(), 2)):\n",
    "        #Making sure we delete the link from the name, we want to use IMDB namespace\n",
    "        person1 = pair[0][35::]\n",
    "        person2 = pair[1][35::]\n",
    "        gPeople.add((IMDB[person1], IMDB['workedWith'], IMDB[person2]))\n",
    "    return\n",
    "        "
   ]
  },
  {
   "cell_type": "markdown",
   "metadata": {},
   "source": [
    "#### DBpedia for age functions\n",
    "Now we have 2 functions that use the name of the actors and a sparql query to Dbpedia to obtain the age of the person."
   ]
  },
  {
   "cell_type": "code",
   "execution_count": 22,
   "metadata": {
    "collapsed": false
   },
   "outputs": [],
   "source": [
    "def gettingAge(name):\n",
    "    '''This function takes a name as input and uses a SPARQL query to obtain this person his date of birth\n",
    "    from DBpedia. After this a python code calculates to what age-group this person belongs.'''\n",
    "    #Creating a list to store the results in\n",
    "    Birthdates = []\n",
    "    #We do not have a way to let the function work with apostrophe YET\n",
    "    if '\\'' in name:\n",
    "        return\n",
    "    #There is a italian writer duo called age_&_Scarpelli, we filtr this one out for now.\n",
    "    if '&' in name:\n",
    "        return\n",
    "    '''This function uses dbpedia and a Sparql Query to obtain the age from a certain person'''\n",
    "    sparql = SPARQLWrapper(\"http://dbpedia.org/sparql\")\n",
    "    sparql.setQuery(\"\"\"\n",
    "    PREFIX dbr: <http://dbpedia.org/resource/>\n",
    "    PREFIX dbo: <http://dbpedia.org/ontology/>\n",
    "    PREFIX dbp: <http://dbpedia.org/property/>\n",
    "\n",
    "    SELECT ?age WHERE {{\n",
    "      dbr:{val} dbo:birthDate ?age\n",
    "    }}\n",
    "    \"\"\".format(val=name))\n",
    "    sparql.setReturnFormat(JSON)\n",
    "    results = sparql.query().convert()\n",
    "    #Making sure to add the right data in the dictionary.\n",
    "    for x in results[\"results\"][\"bindings\"]:\n",
    "        Birthdates.append(x['age']['value'])\n",
    "    #Return the dictionary with the IDs as keys and the name as value\n",
    "    \n",
    "    try:\n",
    "        return Birthdates[0]\n",
    "    except IndexError:\n",
    "        return\n",
    "            \n"
   ]
  },
  {
   "cell_type": "code",
   "execution_count": 23,
   "metadata": {
    "collapsed": true
   },
   "outputs": [],
   "source": [
    "def classifyAgegroup(date):\n",
    "    \"\"\"This function takes a date as input and gives the age groups we decided to use as ouput. \n",
    "    The age groups are; \n",
    "    ageGroup-1 = 0-24, \n",
    "    ageGroup-2 = 25-40, \n",
    "    ageGroup-3 = 41-55, \n",
    "    ageGroup-4 = 56-70, \n",
    "    ageGroup-5 = 71-85, \n",
    "    ageGroup-6 = 85+ \"\"\"\n",
    "    #Getting the currect date so we can calculate someone his age\n",
    "    Current_Date = (time.strftime(\"%Y-%m-%d\"))\n",
    "    #The total amount of years\n",
    "    Leeftijd = int(Current_Date[0:4]) - int(date[0:4])\n",
    "    \n",
    "    #With all these if, elif and else statement we also check for the month the person was born in!\n",
    "    #This is for the date format YYYY-MM-DD\n",
    "    if len(date) == 10:\n",
    "        if int(date[5:6]) < int(Current_Date[5:6]):\n",
    "            Leeftijd = Leeftijd\n",
    "        elif int(date[5:6]) > int(Current_Date[5:6]):\n",
    "            Leeftijd += 1\n",
    "        else:\n",
    "            Leeftijd = Leeftijd\n",
    "    #We also have dates where the date format is YYYY-M-D\n",
    "    else:\n",
    "        if str(date[6]) == '-':\n",
    "            if int(date[5]) < int(Current_Date[5:6]):\n",
    "                Leeftijd = Leeftijd\n",
    "            elif int(date[5]) > int(Current_Date[5:6]):\n",
    "                Leeftijd += 1\n",
    "            else:\n",
    "                Leeftijd = Leeftijd\n",
    "        else:\n",
    "            if int(date[5:6]) < int(Current_Date[5:6]):\n",
    "                Leeftijd = Leeftijd\n",
    "            elif int(date[5:6]) > int(Current_Date[5:6]):\n",
    "                Leeftijd += 1\n",
    "            else:\n",
    "                Leeftijd = Leeftijd\n",
    "    \n",
    "    #Now we classify the person within a certain age-group!\n",
    "    if Leeftijd > 0 and Leeftijd < 25:\n",
    "        Leeftijd = 'ageGroup-1'\n",
    "    elif Leeftijd > 24 and Leeftijd < 41:\n",
    "        Leeftijd = 'ageGroup-2'\n",
    "    elif Leeftijd > 40 and Leeftijd < 56:\n",
    "        Leeftijd = 'ageGroup-3'\n",
    "    elif Leeftijd > 55 and Leeftijd < 71:\n",
    "        Leeftijd = 'ageGroup-4'\n",
    "    elif Leeftijd > 70 and Leeftijd < 86:\n",
    "        Leeftijd = 'ageGroup-5'\n",
    "    elif Leeftijd > 85:\n",
    "        Leeftijd = 'ageGroup-6'\n",
    "    else:\n",
    "        Leeftijd = 'Something went wrong!'\n",
    "    \n",
    "    return Leeftijd"
   ]
  },
  {
   "cell_type": "code",
   "execution_count": 24,
   "metadata": {
    "collapsed": false,
    "scrolled": true
   },
   "outputs": [
    {
     "name": "stdout",
     "output_type": "stream",
     "text": [
      "still going!\n",
      "still going!\n",
      "still going!\n",
      "still going!\n",
      "Wall time: 2min 34s\n"
     ]
    }
   ],
   "source": [
    "def _Main(x):\n",
    "    \"\"\"This function takes the first x movies from the database and creates all the triples between the\n",
    "    movies, actors, writers and directors. It safes the movies with their corresponding ID as a movies.ttl file\n",
    "    and the writers, directors and actors with their triples as a people.ttl file.\"\"\"\n",
    "    #Just a simple counter to check if the function is still running\n",
    "    counter=0\n",
    "    #Here we create a list with the x amount of movies we want the data from\n",
    "    The_Movies = CleanedDict(DownloadMovies(x))\n",
    "    \n",
    "    ##HERE WE ADD THE MOVIE ID and Titles of the movies to the Graph G\n",
    "    addingMoviesTurtle(The_Movies)            \n",
    "    \n",
    "    #Now we get the writers, actors and directors from each movie!               \n",
    "    for movie in The_Movies.keys():\n",
    "                       \n",
    "        if counter % 50 == 0:\n",
    "            print 'still going!'\n",
    "        AddingTriples(movie[5::])\n",
    "        counter+=1\n",
    "    #Here we append the triple data to 2 .tll files and store them in the same folder!\n",
    "    \n",
    "    g.serialize(destination='smallmovies.ttl', format='turtle')\n",
    "    gPeople.serialize(destination='smallpeople.ttl', format='turtle')\n",
    "      \n",
    "%time _Main(200)"
   ]
  },
  {
   "cell_type": "code",
   "execution_count": null,
   "metadata": {
    "collapsed": true
   },
   "outputs": [],
   "source": []
  }
 ],
 "metadata": {
  "kernelspec": {
   "display_name": "Python 2",
   "language": "python",
   "name": "python2"
  },
  "language_info": {
   "codemirror_mode": {
    "name": "ipython",
    "version": 2
   },
   "file_extension": ".py",
   "mimetype": "text/x-python",
   "name": "python",
   "nbconvert_exporter": "python",
   "pygments_lexer": "ipython2",
   "version": "2.7.13"
  }
 },
 "nbformat": 4,
 "nbformat_minor": 0
}
