{
 "cells": [
  {
   "cell_type": "code",
   "execution_count": 1,
   "metadata": {
    "collapsed": true
   },
   "outputs": [],
   "source": [
    "from rdflib import Graph, RDF, Namespace, Literal, URIRef\n",
    "from SPARQLWrapper import SPARQLWrapper, JSON\n",
    "\n",
    "\n"
   ]
  },
  {
   "cell_type": "code",
   "execution_count": 2,
   "metadata": {
    "collapsed": false
   },
   "outputs": [],
   "source": [
    "def namesPlusID():\n",
    "    \"\"\"Deze funtie is voor het ophalen van alle namen die waaruit de gebruiker kan kiezen met hun bijbehorend ID en deze worden vervolgens opgeslagen in een dictionary \"\"\"\n",
    "\n",
    "    sparql = SPARQLWrapper(\"http://localhost:5820/people/query\")\n",
    "    sparql.setQuery(\"\"\"\n",
    "    PREFIX IMDB: <http://data.linkedmdb.org/resource/> \n",
    "    PREFIX film: <http://data.linkedmdb.org/resource/film/> \n",
    "    PREFIX foaf: <http://xmlns.com/foaf/0.1/> \n",
    "    PREFIX movie: <http://data.linkedmdb.org/resource/movie/> \n",
    "    PREFIX rdf: <http://www.w3.org/1999/02/22-rdf-syntax-ns#> \n",
    "    PREFIX rdfs: <http://www.w3.org/2000/01/rdf-schema#> \n",
    "    PREFIX xml: <http://www.w3.org/XML/1998/namespace> \n",
    "    PREFIX xsd: <http://www.w3.org/2001/XMLSchema#> \n",
    "\n",
    "    SELECT ?id ?name  WHERE {\n",
    "            ?id foaf:name ?name\n",
    "            }\n",
    "\n",
    "    \"\"\")\n",
    "    sparql.setReturnFormat(JSON)\n",
    "    results = sparql.query().convert()\n",
    "    people = {}\n",
    "    for row in results[\"results\"][\"bindings\"]:\n",
    "        people[row[\"name\"][\"value\"]] = row[\"id\"][\"value\"]\n",
    "    return people\n",
    "\n",
    "#test\n",
    "#namesPlusID()"
   ]
  },
  {
   "cell_type": "code",
   "execution_count": 3,
   "metadata": {
    "collapsed": false
   },
   "outputs": [],
   "source": [
    "def namesOnly(peopledict): \n",
    "    \"\"\"Alleen de namen en dat in de juiste format zo dat ze op een mooie manier neergezet kunnen worden voor de gebruiker\"\"\"\n",
    "    names = []\n",
    "    for key, value in peopledict.iteritems():\n",
    "        names.append(key[35:].replace(\"_\",\" \"))\n",
    "    return list(set(names))\n",
    "    "
   ]
  },
  {
   "cell_type": "markdown",
   "metadata": {},
   "source": [
    "#### Now we are going to write a couple of functions that calculate the shortest paths"
   ]
  },
  {
   "cell_type": "code",
   "execution_count": 4,
   "metadata": {
    "collapsed": true
   },
   "outputs": [],
   "source": [
    "def ConnectionsPerson(personName):\n",
    "    personName = personName[35::]\n",
    "    \"\"\"This function uses the ID of a person to find all the people this person knows within the \n",
    "    local database.\"\"\"\n",
    "    #With this query we select all the names of the people the personID has workedWith\n",
    "    sparql = SPARQLWrapper(\"http://localhost:5820/people/query\")\n",
    "    sparql.setQuery(\"\"\"\n",
    "    PREFIX IMDB: <http://data.linkedmdb.org/resource/> \n",
    "    PREFIX foaf: <http://xmlns.com/foaf/0.1/>\n",
    "\n",
    "    SELECT ?startName ?ID ?endName WHERE {{\n",
    "      ?startID foaf:name IMDB:{val} .\n",
    "      ?startID IMDB:workedWith ?ID .\n",
    "      ?ID foaf:name ?endName .\n",
    "    }}\n",
    "    \"\"\".format(val=personName))\n",
    "    sparql.setReturnFormat(JSON)\n",
    "    results = sparql.query().convert()\n",
    "    \n",
    "    resultDict = {}\n",
    "    \n",
    "    for person in results[\"results\"][\"bindings\"]:\n",
    "        resultDict[person['endName']['value']] = person['ID']['value']\n",
    "        \n",
    "    return resultDict"
   ]
  },
  {
   "cell_type": "code",
   "execution_count": 5,
   "metadata": {
    "collapsed": false
   },
   "outputs": [],
   "source": [
    "def desiredOutcome(inner_list):\n",
    "    \"\"\"This function makes sure the output of the function names findShortestPaths is printed\n",
    "    in a correct way!\"\"\"\n",
    "    for value in inner_list:\n",
    "        one_path = []\n",
    "        for person in value:\n",
    "            one_path.append(person[35::])\n",
    "        print \" -> \".join(one_path)"
   ]
  },
  {
   "cell_type": "code",
   "execution_count": 6,
   "metadata": {
    "collapsed": false
   },
   "outputs": [
    {
     "name": "stdout",
     "output_type": "stream",
     "text": [
      "Wall time: 9.69 s\n"
     ]
    },
    {
     "data": {
      "text/plain": [
       "'We could not find any paths after calculating 3000 possible paths!'"
      ]
     },
     "execution_count": 6,
     "metadata": {},
     "output_type": "execute_result"
    }
   ],
   "source": [
    "def findShortestPaths(startName, targetName):\n",
    "    #We have to make the startName into a list\n",
    "    startNameTemp=startName.replace(\" \",\"_\")\n",
    "    prefix = 'http://data.linkedmdb.org/resource/'\n",
    "    startNameURI = prefix + startNameTemp\n",
    "    #Now we created the NamesList we will start from\n",
    "    NamesList = []\n",
    "    NamesList.append([startNameURI])\n",
    "    #Now we also need to make the targetName in URI readable format\n",
    "    targetNameTemp=targetName.replace(\" \",\"_\")\n",
    "    targetNameURI = prefix + targetNameTemp\n",
    "    #We use x to see how many times we did a for loop so we can stop the script after a certain amount\n",
    "    x = 0\n",
    "    #We have to make the fill link of the name again to find the shortests paths\n",
    "    correct_paths = []\n",
    "    \n",
    "    for name in NamesList:\n",
    "        x+=1\n",
    "        #My computer does roughly 165 loops every second. 4000 loops is roughly 20 seconds\n",
    "        if x == 3000:\n",
    "            if len(correct_paths) == 0:\n",
    "                return 'We could not find any paths after calculating 3000 possible paths!'\n",
    "            else:\n",
    "                return correct_paths\n",
    "        #If the last name in the path is the target person we add the path to the list.\n",
    "        if name[-1] == targetNameURI:\n",
    "            #We stop the function if we start finding longer paths\n",
    "            if len(correct_paths) == 0:\n",
    "                correct_paths.append(name)\n",
    "            elif len(name) > len(correct_paths[-1]):\n",
    "                return correct_paths\n",
    "            else:\n",
    "                correct_paths.append(name)\n",
    "            #Making sure we stop the path if the last person is the one we are looking for.\n",
    "            continue\n",
    "        else:\n",
    "            #Here we create a list of all the person the last person in the path knows\n",
    "            new_steps = ConnectionsPerson(name[-1]).keys()\n",
    "            #For every person this person knows, we create a new path.\n",
    "            for person in new_steps:\n",
    "                new_path = []\n",
    "                #We make sure the names that were already in the path are also added to the new path. \n",
    "                if person in name:\n",
    "                    continue\n",
    "                else:\n",
    "                    for value in name:\n",
    "                        new_path.append(value)\n",
    "                    #Now we add the new name we just found to the path\n",
    "                    new_path.append(person)\n",
    "                    #Since we add the new path to the names list, the function will keep on running!\n",
    "                    NamesList.append(new_path)\n",
    "    return \"No paths were found!\"\n",
    "\n",
    "%time findShortestPaths('Jacqueline White', 'Season Hubley')"
   ]
  },
  {
   "cell_type": "code",
   "execution_count": null,
   "metadata": {
    "collapsed": true
   },
   "outputs": [],
   "source": [
    "namesiddict = namesPlusID()\n",
    "names = namesOnly(namesiddict)\n",
    "names.sort()\n",
    "people = namesPlusID()"
   ]
  },
  {
   "cell_type": "code",
   "execution_count": null,
   "metadata": {
    "collapsed": false
   },
   "outputs": [],
   "source": [
    "import wx \n",
    "from wx.lib.pubsub import pub \n",
    "import wx.richtext as rt\n",
    "import itertools\n",
    "import wx.lib.agw.hyperlink as hl\n",
    "import re\n",
    "\n",
    "class Mywin(wx.Frame): \n",
    "    def __init__(self, title): \n",
    "        wx.Frame.__init__(self, None, title=title, size=(500,200))\n",
    "        panel = wx.Panel(self, wx.ID_ANY) \n",
    "        box = wx.BoxSizer(wx.VERTICAL)\n",
    "        self.label = wx.StaticText(panel,label = \"Your choices:\" ,style = wx.ALIGN_CENTRE) \n",
    "        box.Add(self.label, 0 , wx.ALIGN_CENTER_HORIZONTAL |wx.ALL) \n",
    "        box.AddStretchSpacer( prop=3 )\n",
    "        cblbl = wx.StaticText(panel,label = \"You\",style = wx.ALIGN_CENTRE| wx.ALIGN_TOP ) \n",
    "        box.Add(cblbl,0,wx.ALIGN_CENTER_HORIZONTAL|wx.ALL,5) \n",
    "        people = names\n",
    "        #keuzes voor de gebruiker\n",
    "        self.choice1 = wx.Choice(panel,choices = people) \n",
    "        box.Add(self.choice1,1,wx.EXPAND|wx.ALIGN_CENTER_HORIZONTAL|wx.ALL,5)\n",
    "        #keuzes voor het target\n",
    "        chlbl = wx.StaticText(panel,label = \"Target\",style = wx.ALIGN_CENTRE) \n",
    "        box.Add(chlbl,0,wx.EXPAND|wx.ALIGN_CENTER_HORIZONTAL|wx.ALL,5) \n",
    "        self.choice2 = wx.Choice(panel,choices = people) \n",
    "        box.Add(self.choice2,1,wx.EXPAND|wx.ALIGN_CENTER_HORIZONTAL|wx.ALL,5)\n",
    "        #button definieeren\n",
    "        self.btn = wx.Button(panel, -1, \"Find connection\")\n",
    "        box.Add(self.btn, 0, wx.ALIGN_RIGHT, 10, 10)\n",
    "        #bind de click actie aan de knop\n",
    "        self.btn.Bind(wx.EVT_BUTTON, self.OnClicked) \n",
    "        panel.SetSizer(box) \n",
    "        self.Centre() \n",
    "        self.Show() \n",
    "\n",
    "        \n",
    "        \n",
    "    def OnClicked(self, event):\n",
    "        \"\"\"Showt het nieuwe scherm en geeft de tuple met gebruikersnaam en target naam mee\"\"\"\n",
    "        SourceTarget = (names[self.choice1.GetCurrentSelection()],names[self.choice2.GetCurrentSelection()]) \n",
    "        secframe = SecondFrame(SourceTarget)\n",
    "        \n",
    "        secframe.Show()\n",
    "\n",
    "\n",
    "class SecondFrame(wx.Frame):\n",
    "\n",
    "    def __init__(self, parent):\n",
    "        wx.Frame.__init__(self, None, title=\"Result\", pos=(700,500), size=(600,350))\n",
    "        panel = wx.Panel(self, wx.ID_ANY)\n",
    "        #parent is de tuple met de gebruikersnaam en targetnaam\n",
    "        self.parent = parent\n",
    "        self.names = [\"http://data.linkedmdb.org/resource/\"+x.replace(\" \",\"_\") for x in parent]\n",
    "        self.peopleid = [people[x] for x in self.names]\n",
    "        box = wx.BoxSizer(wx.VERTICAL)\n",
    "        \n",
    "\n",
    "        shortestPaths = findShortestPaths(self.parent[0], self.parent[1])\n",
    "        #chech of er connecties zijn als dat niet het geval is print dan, anders moet de code voor het presenteren van de resultaten worden gedraaid\n",
    "        if shortestPaths == 'We could not find any paths after calculating 3000 possible paths!':\n",
    "            lbl2 = wx.StaticText(panel,-1, style = wx.ALIGN_LEFT)\n",
    "            lbl2.SetLabel(shortestPaths)\n",
    "            box.Add(lbl2,0,wx.ALIGN_LEFT)\n",
    "        else:\n",
    "            toplabel = 'The easiest way for %s to get in contact with %s is through: \\n' % (self.parent[0], self.parent[1])\n",
    "            lbl = wx.StaticText(panel,-1,style = wx.ALIGN_CENTER)\n",
    "            lblwrap = wx.StaticText(panel,-1,style = wx.ALIGN_LEFT) \n",
    "            lblwrap.SetLabel(toplabel)\n",
    "            box.Add(lblwrap,0,wx.ALIGN_LEFT)\n",
    "            peopleInPaths = itertools.chain.from_iterable(shortestPaths)\n",
    "            peopleInPaths = list(set(peopleInPaths))\n",
    "            peopleInPathsIdDict = {}\n",
    "            for personName in peopleInPaths:\n",
    "                try: \n",
    "                    peopleInPathsIdDict[personName] = namesiddict[personName]\n",
    "                except KeyError:\n",
    "                    pass\n",
    "                \n",
    "            #mooie string maken voor het weergeven van de connecties\n",
    "            for path in shortestPaths:\n",
    "                NameInText = [x[35:].replace('_', ' ') for x in path]\n",
    "                pathlabel = str()\n",
    "                for name in NameInText:\n",
    "                    pathlabel = pathlabel+name+\" -> \"\n",
    "                if pathlabel[-4:] == \" -> \":\n",
    "                    pathlabel = pathlabel[:-4]+' \\n'\n",
    "                lbl1 = wx.StaticText(panel,-1, style = wx.ALIGN_LEFT)\n",
    "                lbl1.SetLabel(pathlabel)\n",
    "                box.Add(lbl1,0,wx.ALIGN_LEFT)\n",
    "            panel.SetSizer(box)\n",
    "            #ophalen of iemand acteur regisseur of schrijver is en vervolgens een hyperlink maken naar zijn of haar linkedmdb\n",
    "            for key, value in peopleInPathsIdDict.iteritems():\n",
    "                m = re.findall('actor|director|writer', value)\n",
    "                hyper1 = hl.HyperLinkCtrl(panel, -1, m[0]+': '+key[35:].replace('_', ' '),URL=value)\n",
    "                box.Add(hyper1,0,wx.ALIGN_LEFT)\n",
    "        \n",
    "app = wx.App() \n",
    "Mywin('test') \n",
    "#app draaien\n",
    "app.MainLoop()"
   ]
  }
 ],
 "metadata": {
  "kernelspec": {
   "display_name": "Python 2",
   "language": "python",
   "name": "python2"
  },
  "language_info": {
   "codemirror_mode": {
    "name": "ipython",
    "version": 2
   },
   "file_extension": ".py",
   "mimetype": "text/x-python",
   "name": "python",
   "nbconvert_exporter": "python",
   "pygments_lexer": "ipython2",
   "version": "2.7.11"
  }
 },
 "nbformat": 4,
 "nbformat_minor": 0
}
